{
 "cells": [
  {
   "cell_type": "markdown",
   "id": "defaaffd",
   "metadata": {},
   "source": [
    "# Disoluciones o soluciones \n",
    "## Estequiometria de reacciones en solución \n",
    "\n",
    "**Asignatura:** Química general\n",
    "\n",
    "**Autor:** Nicoll Amagua | La Academia"
   ]
  },
  {
   "cell_type": "markdown",
   "id": "ade91593",
   "metadata": {},
   "source": [
    "## Ejercicio 06\n",
    "Se hace reaccionar una muestra de fosforo impuro (25% de impurezas inertes) con 2.4 litros de una solución de acido nítrico 10N y agua en exceso, produciéndose acido fosfórico y monóxido de nitrógeno producido se recoge en un recipiente de 123 litros a 27°C ejerciendo una presión de 1520 mmHg. Calcular el peso de la muestra de fosforo impuro inicial. El rendimiento de la reacción es del 80%. "
   ]
  },
  {
   "cell_type": "markdown",
   "id": "6bc7df02",
   "metadata": {},
   "source": [
    "### Solución 06\n",
    "Añadir solución."
   ]
  },
  {
   "cell_type": "code",
   "execution_count": null,
   "id": "e2d1b8ac",
   "metadata": {},
   "outputs": [],
   "source": [
    "# Ingrese su código aquí 👽."
   ]
  },
  {
   "cell_type": "markdown",
   "id": "91fa3983",
   "metadata": {},
   "source": [
    "## Ejercicio 08\n",
    "La formula molecular del acido cítrico es $C_6H_8O_7$. Si para neutralizar exactamente 0.57 g de acido se requieren 17.85 cm3 de una solución de NaOH de concentración 0.5 N, determine para el acido: a) el numero de equivalentes que reaccionan, b) la masa de un peso equivalente , c) el numero de H ionizables. "
   ]
  },
  {
   "cell_type": "markdown",
   "id": "9ab4a9a2",
   "metadata": {},
   "source": [
    "### Solución 08\n",
    "Añadir solución."
   ]
  },
  {
   "cell_type": "code",
   "execution_count": null,
   "id": "0797acbb",
   "metadata": {},
   "outputs": [],
   "source": [
    "# Ingrese su código aquí 👽."
   ]
  },
  {
   "cell_type": "markdown",
   "id": "e224faf8",
   "metadata": {},
   "source": [
    "## Ejercicio 10\n",
    "Se prepara una solución disolviendo 5 g de acido oxálico hidratado $H_2C_2O_4*H_2O$, con agua hasta completar 250 $cm^3 $de solución. De esta solución se toma 25 $cm^3$ y se los titula con 15.9 $cm^3 $de una solución de NaOH 0.5 N. Calcular el numero de moléculas de agua de hidratación por cada molécula de acido anhidrido. "
   ]
  },
  {
   "cell_type": "markdown",
   "id": "07e1cc21",
   "metadata": {},
   "source": [
    "### Solución 10\n",
    "Añadir solución."
   ]
  },
  {
   "cell_type": "code",
   "execution_count": null,
   "id": "1cac20c7",
   "metadata": {},
   "outputs": [],
   "source": [
    "# Ingrese su código aquí 👽."
   ]
  }
 ],
 "metadata": {
  "language_info": {
   "name": "python"
  }
 },
 "nbformat": 4,
 "nbformat_minor": 5
}
