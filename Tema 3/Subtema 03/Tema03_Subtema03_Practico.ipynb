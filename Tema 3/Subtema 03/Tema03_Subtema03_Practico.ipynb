{
 "cells": [
  {
   "cell_type": "markdown",
   "id": "defaaffd",
   "metadata": {},
   "source": [
    "# Disoluciones o soluciones \n",
    "## Propiedades coligativas de las soluciones\n",
    "\n",
    "**Asignatura:** Química general\n",
    "\n",
    "**Autor:** Nicoll Amagua | La Academia"
   ]
  },
  {
   "cell_type": "markdown",
   "id": "ade91593",
   "metadata": {},
   "source": [
    "## Ejercicio 02\n",
    "Suponga que en 300 g de benceno se disuelven 6.0 g de una mezcla que contiene naftaleno ($C_{10}H_{8}$) y antraceno ($C_{14}H_{10}$). Cuando la disolución se enfría, empieza a congelar a una temperatura 0.70 por debajo del punto de congelación del benceno puro (5.5). Calcule la composición de la mezcla, teniendo en cuenta que Kf= 5.1 $^\\circ \\!K \\cdot \\frac{\\text{mol}}{\\text{kg}}$ para benceno. "
   ]
  },
  {
   "cell_type": "markdown",
   "id": "6bc7df02",
   "metadata": {},
   "source": [
    "### Solución 02\n",
    "Añadir solución."
   ]
  },
  {
   "cell_type": "code",
   "execution_count": null,
   "id": "e2d1b8ac",
   "metadata": {},
   "outputs": [],
   "source": [
    "# Ingrese su código aquí 👽."
   ]
  },
  {
   "cell_type": "markdown",
   "id": "91fa3983",
   "metadata": {},
   "source": [
    "## Ejercicio 04\n",
    "A 100 °C la presión de vapor de una solución de 10 g de nitrato de calcio en 150 g de agua es 746.8 mmHg. Determinar su presión osmótica a 20°C y la concentración molar de los iones $Ca^{+2}$."
   ]
  },
  {
   "cell_type": "markdown",
   "id": "9ab4a9a2",
   "metadata": {},
   "source": [
    "### Solución 04\n",
    "Añadir solución."
   ]
  },
  {
   "cell_type": "code",
   "execution_count": null,
   "id": "0797acbb",
   "metadata": {},
   "outputs": [],
   "source": [
    "# Ingrese su código aquí 👽."
   ]
  },
  {
   "cell_type": "markdown",
   "id": "e224faf8",
   "metadata": {},
   "source": [
    "## Ejercicio 08\n",
    "Determinar la temperatura de ebullición de una solución 0.2 molal de$ MgSO_4$ que congela a -0.494°C. Ke=0.52°C/m, Kc=1.86 0.52°C/m."
   ]
  },
  {
   "cell_type": "markdown",
   "id": "07e1cc21",
   "metadata": {},
   "source": [
    "### Solución 08\n",
    "Añadir solución."
   ]
  },
  {
   "cell_type": "code",
   "execution_count": null,
   "id": "1cac20c7",
   "metadata": {},
   "outputs": [],
   "source": [
    "# Ingrese su código aquí 👽."
   ]
  }
 ],
 "metadata": {
  "language_info": {
   "name": "python"
  }
 },
 "nbformat": 4,
 "nbformat_minor": 5
}
