{
 "cells": [
  {
   "cell_type": "markdown",
   "id": "defaaffd",
   "metadata": {},
   "source": [
    "# Disoluciones o soluciones \n",
    "## Propiedades coligativas de las soluciones\n",
    "\n",
    "**Asignatura:** Química general\n",
    "\n",
    "**Autor:** Nicoll Amagua | La Academia"
   ]
  },
  {
   "cell_type": "markdown",
   "id": "ade91593",
   "metadata": {},
   "source": [
    "## Ejemplo | Concepto\n",
    "Añadir enunciado o concepto."
   ]
  },
  {
   "cell_type": "code",
   "execution_count": null,
   "id": "e2d1b8ac",
   "metadata": {},
   "outputs": [],
   "source": [
    "# Ingrese su código aquí 👽."
   ]
  }
 ],
 "metadata": {
  "language_info": {
   "name": "python"
  }
 },
 "nbformat": 4,
 "nbformat_minor": 5
}
