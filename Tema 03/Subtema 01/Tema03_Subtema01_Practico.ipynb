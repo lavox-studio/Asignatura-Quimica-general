{
 "cells": [
  {
   "cell_type": "markdown",
   "id": "defaaffd",
   "metadata": {},
   "source": [
    "# Disoluciones o soluciones\n",
    "##  Soluciones, solubilidad, formas de expresión\n",
    "\n",
    "**Asignatura:** Química general \n",
    "\n",
    "**Autor:** Nicoll Amagua | La Academia"
   ]
  },
  {
   "cell_type": "markdown",
   "id": "ade91593",
   "metadata": {},
   "source": [
    "## Ejercicio 04\n",
    "Un volumen de 29.23 L $NH_3$ medidos a 20°C y 740 mmHg se disuelven en agua obteniéndose 100 $cm^3$ de solución de densidad 0.916 $ g/cm^3 $. Calcule la concentración de la solución en molaridad, molalidad y normalidad."
   ]
  },
  {
   "cell_type": "markdown",
   "id": "6bc7df02",
   "metadata": {},
   "source": [
    "### Solución 04\n",
    "Añadir solución."
   ]
  },
  {
   "cell_type": "code",
   "execution_count": null,
   "id": "e2d1b8ac",
   "metadata": {},
   "outputs": [],
   "source": [
    "# Ingrese su código aquí 👽."
   ]
  },
  {
   "cell_type": "markdown",
   "id": "91fa3983",
   "metadata": {},
   "source": [
    "## Ejercicio 08\n",
    "Se mezclan 400 $cm^3$ de una solución 3 M con igual volumen de una solución 1.5 M del mismo soluto. Se obtiene una solución del 19.34% en peso y de densidad 1.14$ g/cm^3$. Si se considera que los volúmenes so aditivos, calcular la masa molar del soluto. "
   ]
  },
  {
   "cell_type": "markdown",
   "id": "9ab4a9a2",
   "metadata": {},
   "source": [
    "### Solución 08\n",
    "Añadir solución."
   ]
  },
  {
   "cell_type": "code",
   "execution_count": null,
   "id": "0797acbb",
   "metadata": {},
   "outputs": [],
   "source": [
    "# Ingrese su código aquí 👽."
   ]
  },
  {
   "cell_type": "markdown",
   "id": "e224faf8",
   "metadata": {},
   "source": [
    "## Ejercicio 12\n",
    "Se mezclan 300 cm³ de una solución de ácido acético 2.5 M con 200 $cm³$ de una solución de ácido acético 0.8 M. Si la solución final tiene una densidad de 1.05 $g/cm³$ y una concentración de 12% en peso, calcula la masa molar del ácido acético."
   ]
  },
  {
   "cell_type": "markdown",
   "id": "07e1cc21",
   "metadata": {},
   "source": [
    "### Solución 12\n",
    "Añadir solución."
   ]
  },
  {
   "cell_type": "code",
   "execution_count": null,
   "id": "1cac20c7",
   "metadata": {},
   "outputs": [],
   "source": [
    "# Ingrese su código aquí 👽."
   ]
  }
 ],
 "metadata": {
  "language_info": {
   "name": "python"
  }
 },
 "nbformat": 4,
 "nbformat_minor": 5
}
