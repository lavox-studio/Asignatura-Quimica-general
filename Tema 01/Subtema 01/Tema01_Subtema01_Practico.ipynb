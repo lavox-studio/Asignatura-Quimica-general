{
 "cells": [
  {
   "cell_type": "markdown",
   "id": "defaaffd",
   "metadata": {},
   "source": [
    "# Gases\n",
    "## Ley de gases ideales\n",
    "\n",
    "**Asignatura:** Quimica general\n",
    "\n",
    "**Autor:** Nicoll Amagua | La Academia"
   ]
  },
  {
   "cell_type": "markdown",
   "id": "ade91593",
   "metadata": {},
   "source": [
    "## Ejercicio 02\n",
    "En la combustión de un hidrocarburo se obtiene 6.8180 moles de $CO_2$ y 143.1760 g de agua. Si se conoce que al vaporizar 1.2276 g del hidrocarburo ocupan un volumen de 443.6 $cm^3$ medidos a 100°C y 748 mmHg, determinar su fórmula molecular. "
   ]
  },
  {
   "cell_type": "markdown",
   "id": "6bc7df02",
   "metadata": {},
   "source": [
    "### Solución 02\n",
    "Añadir solución."
   ]
  },
  {
   "cell_type": "code",
   "execution_count": null,
   "id": "e2d1b8ac",
   "metadata": {},
   "outputs": [],
   "source": [
    "# Ingrese su código aquí 👽."
   ]
  },
  {
   "cell_type": "markdown",
   "id": "91fa3983",
   "metadata": {},
   "source": [
    "## Ejercicio 05\n",
    "Un recipiente contiene 0.813 g de helio a 27°C y 380 mmHg y otro recipiente contiene aire a 1 atm y 27°C. Los contenidos de los recipientes se mezclan abriendo la llave que los conecta. Si en la mezcla final la fracción molar de oxigeno es 0.14. Determinar el porcentaje en volumen de helio y la presión final de la mezcla. Suponga que la composición volumétrica del aire: 21% oxígeno, 79% nitrógeno. "
   ]
  },
  {
   "cell_type": "markdown",
   "id": "9ab4a9a2",
   "metadata": {},
   "source": [
    "### Solución 05\n",
    "Añadir solución."
   ]
  },
  {
   "cell_type": "code",
   "execution_count": null,
   "id": "0797acbb",
   "metadata": {},
   "outputs": [],
   "source": [
    "#Datos de problema \n",
    "#Helio\n",
    "masa_he=  0.813 #g \n",
    "P_he=380/760 #atm\n",
    "R= 0.082 #(atm*l)/(mol*k)\n",
    "PM_he=4 #g/mol\n",
    "\n",
    "#Aire\n",
    "P_aire= 1#atm \n",
    "T= 273.15+27 #K\n",
    "\n",
    "#moles de helio\n",
    "#n=masa/peso molecular \n",
    "n_he=masa_he/PM_he\n",
    "print(\"Moles de helio: {n_he:. 4f} moles\")\n",
    "\n",
    "# presion del helio \n",
    "#PV=nRT\n",
    "V_he=n_he*R*T/P_he\n",
    "print(\"volumen de helio: {V_he:. 4f} L\")\n",
    "\n",
    "#Ley de gases \n",
    "#P_aire*V_aire= P_he*V_he\n",
    "V_aire=P_he*V_he/P_aire\n",
    "print(\"volumen de aire: {V_aire:. 4f} L\")\n",
    "\n",
    "#composicion del aire \n",
    "#PV=nRT\n",
    "n_aire=P_aire*V_aire/(R*T)\n",
    "print(\"Moles de aire: {V_aire:. 4f} mol\")\n",
    "#Composicion del aire 21% O2, 79% N2\n",
    "n_O2=0.21*n_aire\n",
    "n_N2=0.79*n_aire\n",
    "\n",
    "n_totales=n_he+n_N2+n_O2\n"
   ]
  },
  {
   "cell_type": "markdown",
   "id": "e224faf8",
   "metadata": {},
   "source": [
    "## Ejercicio 10\n",
    "27 g de gas metano se encierran en un cilindro de 340 $cm^3$ a una presión de 0.72 atm y 29°C. ¿A qué presión se debe colocar el gas metano para que su volumen sea de 120 $cm^3$ y la temperatura de 52°C. "
   ]
  },
  {
   "cell_type": "markdown",
   "id": "07e1cc21",
   "metadata": {},
   "source": [
    "### Solución 10\n",
    "Añadir solución."
   ]
  },
  {
   "cell_type": "code",
   "execution_count": null,
   "id": "1cac20c7",
   "metadata": {},
   "outputs": [],
   "source": [
    "# Ingrese su código aquí 👽."
   ]
  },
  {
   "cell_type": "markdown",
   "id": "440c3e4c",
   "metadata": {},
   "source": [
    "## Ejercicio 14\n",
    "Calcule la densidad del bromuro de hidrógeno (HBr) gaseoso en gramos por litro a 733 mmHg y 46°C."
   ]
  },
  {
   "cell_type": "markdown",
   "id": "e5cbdaf2",
   "metadata": {},
   "source": [
    "### Solución 14\n",
    "Añadir solución."
   ]
  }
 ],
 "metadata": {
  "language_info": {
   "name": "python"
  }
 },
 "nbformat": 4,
 "nbformat_minor": 5
}
